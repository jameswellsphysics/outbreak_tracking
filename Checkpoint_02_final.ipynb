{
 "cells": [
  {
   "cell_type": "markdown",
   "metadata": {},
   "source": [
    "## Import Libraries"
   ]
  },
  {
   "cell_type": "code",
   "execution_count": 49,
   "metadata": {},
   "outputs": [],
   "source": [
    "import pandas as pd\n",
    "from geonamescache import GeonamesCache\n",
    "from unidecode import unidecode\n",
    "import re\n",
    "import numpy as np"
   ]
  },
  {
   "cell_type": "markdown",
   "metadata": {},
   "source": [
    "## Import Data"
   ]
  },
  {
   "cell_type": "code",
   "execution_count": 50,
   "metadata": {},
   "outputs": [],
   "source": [
    "data = pd.read_csv('Checkpoint01b.csv', index_col = [0])"
   ]
  },
  {
   "cell_type": "markdown",
   "metadata": {},
   "source": [
    "## Get Countries in Headlines"
   ]
  },
  {
   "cell_type": "markdown",
   "metadata": {},
   "source": [
    "I should have done this in Part 01, but I misunderstood!"
   ]
  },
  {
   "cell_type": "code",
   "execution_count": 51,
   "metadata": {},
   "outputs": [],
   "source": [
    "headlines = [unidecode(line) for line in data['headline']]"
   ]
  },
  {
   "cell_type": "code",
   "execution_count": 52,
   "metadata": {},
   "outputs": [],
   "source": [
    "country2 = np.full_like(np.arange(len(data)), np.nan, dtype = object)"
   ]
  },
  {
   "cell_type": "code",
   "execution_count": 53,
   "metadata": {},
   "outputs": [],
   "source": [
    "data2 = data\n",
    "data2['country2']=country2"
   ]
  },
  {
   "cell_type": "code",
   "execution_count": 54,
   "metadata": {},
   "outputs": [],
   "source": [
    "gc = GeonamesCache()\n",
    "countries = gc.get_countries()"
   ]
  },
  {
   "cell_type": "code",
   "execution_count": 55,
   "metadata": {},
   "outputs": [],
   "source": [
    "for j in data2.index:\n",
    "    for key in list(countries.keys()):\n",
    "        name = countries[key]['name']\n",
    "        match = re.search('\\\\b' + name + '\\\\b', data2.headline.loc[j])\n",
    "        if match != None:\n",
    "            data2.loc[j, 'country2'] = name    "
   ]
  },
  {
   "cell_type": "code",
   "execution_count": 56,
   "metadata": {},
   "outputs": [],
   "source": [
    "data3 = data2.drop_duplicates(['headline', 'city']).reset_index().drop('index', axis = 1)"
   ]
  },
  {
   "cell_type": "markdown",
   "metadata": {},
   "source": [
    "## Select a Single City Per Headline"
   ]
  },
  {
   "cell_type": "markdown",
   "metadata": {},
   "source": [
    "I decided to use the most populous city, unless a country was in a headline."
   ]
  },
  {
   "cell_type": "code",
   "execution_count": 57,
   "metadata": {},
   "outputs": [],
   "source": [
    "city_data = pd.DataFrame(columns = ['index', 'key', 'city', 'country', 'population'])"
   ]
  },
  {
   "cell_type": "code",
   "execution_count": 58,
   "metadata": {},
   "outputs": [],
   "source": [
    "for j in range(len(data3)):    \n",
    "    city_info = pd.DataFrame(columns = ['key', 'city', 'country', 'population'])\n",
    "    cities_list = gc.get_cities_by_name(data3.loc[j,'city'])\n",
    "    if (not cities_list):\n",
    "        city_info.loc[0]=np.nan \n",
    "        the_city = city_info.loc[0]\n",
    "    elif data3.loc[j,'country2']==data3.loc[j,'country2']:\n",
    "        the_country = gc.get_countries_by_names()[data3.loc[j,'country2']]\n",
    "        iso = the_country['iso']\n",
    "        i = 0\n",
    "        for city in cities_list:\n",
    "            if city[list(city.keys())[0]]['countrycode'] == iso:\n",
    "                city_info.loc[i, 'key'] = list(city.keys())[0]\n",
    "                city_info.loc[i,'city'] = city[list(city.keys())[0]]['name']\n",
    "                city_info.loc[i,'country'] = city[list(city.keys())[0]]['countrycode']\n",
    "                city_info.loc[i,'population'] = city[list(city.keys())[0]]['population']\n",
    "            else:\n",
    "                city_info.loc[0]=np.nan \n",
    "                the_city = city_info.loc[0]\n",
    "            i+=1\n",
    "        the_city = city_info.sort_values(by = ['population'], ascending = False).reset_index().loc[0]\n",
    "    elif len(cities_list) > 1:\n",
    "        i = 0\n",
    "        for city in cities_list:\n",
    "            city_info.loc[i, 'key'] = list(city.keys())[0]\n",
    "            city_info.loc[i,'city'] = city[list(city.keys())[0]]['name']\n",
    "            city_info.loc[i,'country'] = city[list(city.keys())[0]]['countrycode']\n",
    "            city_info.loc[i,'population'] = city[list(city.keys())[0]]['population']\n",
    "            i+=1\n",
    "        the_city = city_info.sort_values(by = ['population'], ascending = False).reset_index().loc[0]\n",
    "    else:\n",
    "        i = 0\n",
    "        city = cities_list[0]\n",
    "        city_info.loc[i, 'key'] = list(city.keys())[0]\n",
    "        city_info.loc[i,'city'] = city[list(city.keys())[0]]['name']\n",
    "        city_info.loc[i,'country'] = city[list(city.keys())[0]]['countrycode']\n",
    "        city_info.loc[i,'population'] = city[list(city.keys())[0]]['population']\n",
    "        the_city = city_info.reset_index().loc[0]\n",
    "    city_data = city_data.append(the_city, ignore_index = True)"
   ]
  },
  {
   "cell_type": "code",
   "execution_count": 59,
   "metadata": {},
   "outputs": [],
   "source": [
    "city_data = city_data.drop('index', axis = 1)\n",
    "city_data = city_data.dropna(axis=0, how='all').reset_index(drop=True)"
   ]
  },
  {
   "cell_type": "code",
   "execution_count": 60,
   "metadata": {},
   "outputs": [
    {
     "data": {
      "text/html": [
       "<div>\n",
       "<style scoped>\n",
       "    .dataframe tbody tr th:only-of-type {\n",
       "        vertical-align: middle;\n",
       "    }\n",
       "\n",
       "    .dataframe tbody tr th {\n",
       "        vertical-align: top;\n",
       "    }\n",
       "\n",
       "    .dataframe thead th {\n",
       "        text-align: right;\n",
       "    }\n",
       "</style>\n",
       "<table border=\"1\" class=\"dataframe\">\n",
       "  <thead>\n",
       "    <tr style=\"text-align: right;\">\n",
       "      <th></th>\n",
       "      <th>key</th>\n",
       "      <th>city</th>\n",
       "      <th>country</th>\n",
       "      <th>population</th>\n",
       "    </tr>\n",
       "  </thead>\n",
       "  <tbody>\n",
       "    <tr>\n",
       "      <th>0</th>\n",
       "      <td>292223</td>\n",
       "      <td>Dubai</td>\n",
       "      <td>AE</td>\n",
       "      <td>2956587</td>\n",
       "    </tr>\n",
       "    <tr>\n",
       "      <th>1</th>\n",
       "      <td>616052</td>\n",
       "      <td>Yerevan</td>\n",
       "      <td>AM</td>\n",
       "      <td>1093485</td>\n",
       "    </tr>\n",
       "    <tr>\n",
       "      <th>2</th>\n",
       "      <td>2240449</td>\n",
       "      <td>Luanda</td>\n",
       "      <td>AO</td>\n",
       "      <td>2776168</td>\n",
       "    </tr>\n",
       "    <tr>\n",
       "      <th>3</th>\n",
       "      <td>3651438</td>\n",
       "      <td>Santa Elena</td>\n",
       "      <td>EC</td>\n",
       "      <td>42214</td>\n",
       "    </tr>\n",
       "    <tr>\n",
       "      <th>4</th>\n",
       "      <td>3911925</td>\n",
       "      <td>La Paz</td>\n",
       "      <td>BO</td>\n",
       "      <td>812799</td>\n",
       "    </tr>\n",
       "  </tbody>\n",
       "</table>\n",
       "</div>"
      ],
      "text/plain": [
       "       key         city country population\n",
       "0   292223        Dubai      AE    2956587\n",
       "1   616052      Yerevan      AM    1093485\n",
       "2  2240449       Luanda      AO    2776168\n",
       "3  3651438  Santa Elena      EC      42214\n",
       "4  3911925       La Paz      BO     812799"
      ]
     },
     "execution_count": 60,
     "metadata": {},
     "output_type": "execute_result"
    }
   ],
   "source": [
    "city_data.head()"
   ]
  },
  {
   "cell_type": "markdown",
   "metadata": {},
   "source": [
    "## Get Longitude and Latitude"
   ]
  },
  {
   "cell_type": "code",
   "execution_count": 61,
   "metadata": {},
   "outputs": [],
   "source": [
    "latitude = np.full_like(np.arange(len(city_data)), np.nan, dtype = float)\n",
    "longitude = np.full_like(np.arange(len(city_data)), np.nan, dtype = float)"
   ]
  },
  {
   "cell_type": "code",
   "execution_count": 62,
   "metadata": {},
   "outputs": [],
   "source": [
    "city_data['latitude'] = latitude\n",
    "city_data['longitude'] = longitude"
   ]
  },
  {
   "cell_type": "code",
   "execution_count": 63,
   "metadata": {},
   "outputs": [],
   "source": [
    "cities = gc.get_cities()"
   ]
  },
  {
   "cell_type": "code",
   "execution_count": 64,
   "metadata": {},
   "outputs": [],
   "source": [
    "for i in range(len(city_data)):\n",
    "    key = city_data.loc[i,'key']\n",
    "    city_data.loc[i,'latitude'] = cities[key]['latitude']\n",
    "    city_data.loc[i,'longitude'] = cities[key]['longitude']"
   ]
  },
  {
   "cell_type": "code",
   "execution_count": 68,
   "metadata": {},
   "outputs": [
    {
     "data": {
      "text/plain": [
       "(580, 6)"
      ]
     },
     "execution_count": 68,
     "metadata": {},
     "output_type": "execute_result"
    }
   ],
   "source": [
    "city_data.head()"
   ]
  },
  {
   "cell_type": "code",
   "execution_count": 66,
   "metadata": {},
   "outputs": [
    {
     "name": "stdout",
     "output_type": "stream",
     "text": [
      "0\n"
     ]
    },
    {
     "data": {
      "text/plain": [
       "0"
      ]
     },
     "execution_count": 66,
     "metadata": {},
     "output_type": "execute_result"
    }
   ],
   "source": [
    "print(sum(np.isnan(city_data.latitude)))\n",
    "sum(np.isnan(city_data.longitude))"
   ]
  },
  {
   "cell_type": "code",
   "execution_count": 67,
   "metadata": {},
   "outputs": [],
   "source": [
    "city_data.to_csv('Checkpoint_02.csv')"
   ]
  }
 ],
 "metadata": {
  "kernelspec": {
   "display_name": "Python 3",
   "language": "python",
   "name": "python3"
  },
  "language_info": {
   "codemirror_mode": {
    "name": "ipython",
    "version": 3
   },
   "file_extension": ".py",
   "mimetype": "text/x-python",
   "name": "python",
   "nbconvert_exporter": "python",
   "pygments_lexer": "ipython3",
   "version": "3.7.6"
  }
 },
 "nbformat": 4,
 "nbformat_minor": 4
}
