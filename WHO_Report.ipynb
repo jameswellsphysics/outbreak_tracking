{
 "cells": [
  {
   "cell_type": "markdown",
   "metadata": {},
   "source": [
    "# Monitoring Epidemics Via Headlines"
   ]
  },
  {
   "cell_type": "markdown",
   "metadata": {},
   "source": [
    "Our main prioirity should be the Zika Virus. Zika is present throughout the southern United States, Central America, Northwest South America, and Brazil. In the Eastern Hemisphere, Zika is present in India, the Philippines, and Malaysia. "
   ]
  },
  {
   "cell_type": "markdown",
   "metadata": {},
   "source": [
    "Our second priority should be Mad Cow Disease, which is present in several Western and Southern European nations, as well as the UK."
   ]
  },
  {
   "cell_type": "markdown",
   "metadata": {},
   "source": [
    "A few smaller epidemics are present, but are lower priority. They should be monitored further. "
   ]
  },
  {
   "cell_type": "markdown",
   "metadata": {},
   "source": [
    "![World Epidemic Map, sourced from news headlines, 2020/05/13](WHO_Map.png)"
   ]
  }
 ],
 "metadata": {
  "kernelspec": {
   "display_name": "Python 3",
   "language": "python",
   "name": "python3"
  },
  "language_info": {
   "codemirror_mode": {
    "name": "ipython",
    "version": 3
   },
   "file_extension": ".py",
   "mimetype": "text/x-python",
   "name": "python",
   "nbconvert_exporter": "python",
   "pygments_lexer": "ipython3",
   "version": "3.7.6"
  }
 },
 "nbformat": 4,
 "nbformat_minor": 4
}
